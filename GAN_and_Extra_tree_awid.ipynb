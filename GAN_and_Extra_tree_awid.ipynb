{
  "nbformat": 4,
  "nbformat_minor": 0,
  "metadata": {
    "colab": {
      "name": "GAN and Extra tree awid.ipynb",
      "provenance": [],
      "collapsed_sections": [],
      "mount_file_id": "1Dkc5DFgfHILgmkOuzf80qA0qtHt5ERZv",
      "authorship_tag": "ABX9TyN8nHIyB3ZXulR+d3VeuFtC",
      "include_colab_link": true
    },
    "kernelspec": {
      "name": "python3",
      "display_name": "Python 3"
    }
  },
  "cells": [
    {
      "cell_type": "markdown",
      "metadata": {
        "id": "view-in-github",
        "colab_type": "text"
      },
      "source": [
        "<a href=\"https://colab.research.google.com/github/gauravpathak91/NavTab/blob/master/GAN_and_Extra_tree_awid.ipynb\" target=\"_parent\"><img src=\"https://colab.research.google.com/assets/colab-badge.svg\" alt=\"Open In Colab\"/></a>"
      ]
    },
    {
      "cell_type": "code",
      "metadata": {
        "id": "mQcqnJqWN6Au"
      },
      "source": [
        "!pip install tensorflow==1.4.0"
      ],
      "execution_count": null,
      "outputs": []
    },
    {
      "cell_type": "code",
      "metadata": {
        "id": "0Q4Qt2Cc9iHq",
        "colab": {
          "base_uri": "https://localhost:8080/",
          "height": 51
        },
        "outputId": "7613f39a-9371-4d7e-ec62-8a9df61b6376"
      },
      "source": [
        "%tensorflow_version 1.x\n",
        "import tensorflow as tf\n",
        "device_name = tf.test.gpu_device_name()\n",
        "if device_name != '/device:GPU:0':\n",
        "  raise SystemError('GPU device not found')\n",
        "print('Found GPU at: {}'.format(device_name))"
      ],
      "execution_count": null,
      "outputs": [
        {
          "output_type": "stream",
          "text": [
            "TensorFlow 1.x selected.\n",
            "Found GPU at: /device:GPU:0\n"
          ],
          "name": "stdout"
        }
      ]
    },
    {
      "cell_type": "code",
      "metadata": {
        "id": "qoGjIDGdOkIJ"
      },
      "source": [
        "import pandas as pd\n",
        "import numpy as np\n",
        "import tensorflow as tf"
      ],
      "execution_count": null,
      "outputs": []
    },
    {
      "cell_type": "code",
      "metadata": {
        "id": "CWCEgDCYPD-l"
      },
      "source": [
        "data = pd.read_csv(\"/content/drive/My Drive/awid/awid_cls_train_clean_int_vals.csv\")"
      ],
      "execution_count": null,
      "outputs": []
    },
    {
      "cell_type": "code",
      "metadata": {
        "id": "XwuYOVWiPMLu"
      },
      "source": [
        "data = data.drop(columns=\"Unnamed: 0\")"
      ],
      "execution_count": null,
      "outputs": []
    },
    {
      "cell_type": "code",
      "metadata": {
        "id": "DT4JI0OJPOQF",
        "colab": {
          "base_uri": "https://localhost:8080/",
          "height": 204
        },
        "outputId": "d2de3b17-c754-49e1-f303-776b3409a681"
      },
      "source": [
        "data.head()"
      ],
      "execution_count": null,
      "outputs": [
        {
          "output_type": "execute_result",
          "data": {
            "text/html": [
              "<div>\n",
              "<style scoped>\n",
              "    .dataframe tbody tr th:only-of-type {\n",
              "        vertical-align: middle;\n",
              "    }\n",
              "\n",
              "    .dataframe tbody tr th {\n",
              "        vertical-align: top;\n",
              "    }\n",
              "\n",
              "    .dataframe thead th {\n",
              "        text-align: right;\n",
              "    }\n",
              "</style>\n",
              "<table border=\"1\" class=\"dataframe\">\n",
              "  <thead>\n",
              "    <tr style=\"text-align: right;\">\n",
              "      <th></th>\n",
              "      <th>3</th>\n",
              "      <th>4</th>\n",
              "      <th>5</th>\n",
              "      <th>6</th>\n",
              "      <th>7</th>\n",
              "      <th>8</th>\n",
              "      <th>37</th>\n",
              "      <th>46</th>\n",
              "      <th>47</th>\n",
              "      <th>49</th>\n",
              "      <th>50</th>\n",
              "      <th>60</th>\n",
              "      <th>63</th>\n",
              "      <th>65</th>\n",
              "      <th>66</th>\n",
              "      <th>67</th>\n",
              "      <th>68</th>\n",
              "      <th>69</th>\n",
              "      <th>70</th>\n",
              "      <th>71</th>\n",
              "      <th>72</th>\n",
              "      <th>74</th>\n",
              "      <th>75</th>\n",
              "      <th>154</th>\n",
              "    </tr>\n",
              "  </thead>\n",
              "  <tbody>\n",
              "    <tr>\n",
              "      <th>0</th>\n",
              "      <td>1.393661e+09</td>\n",
              "      <td>0.000000</td>\n",
              "      <td>0.000000</td>\n",
              "      <td>0.000000</td>\n",
              "      <td>261</td>\n",
              "      <td>261</td>\n",
              "      <td>2101598203</td>\n",
              "      <td>1.0</td>\n",
              "      <td>2437</td>\n",
              "      <td>1</td>\n",
              "      <td>0</td>\n",
              "      <td>-47</td>\n",
              "      <td>8</td>\n",
              "      <td>0</td>\n",
              "      <td>8</td>\n",
              "      <td>0</td>\n",
              "      <td>0</td>\n",
              "      <td>0</td>\n",
              "      <td>0</td>\n",
              "      <td>0</td>\n",
              "      <td>0</td>\n",
              "      <td>0</td>\n",
              "      <td>281474976710655</td>\n",
              "      <td>normal</td>\n",
              "    </tr>\n",
              "    <tr>\n",
              "      <th>1</th>\n",
              "      <td>1.393661e+09</td>\n",
              "      <td>0.024271</td>\n",
              "      <td>0.024271</td>\n",
              "      <td>0.024271</td>\n",
              "      <td>185</td>\n",
              "      <td>185</td>\n",
              "      <td>2101623071</td>\n",
              "      <td>1.0</td>\n",
              "      <td>2437</td>\n",
              "      <td>1</td>\n",
              "      <td>0</td>\n",
              "      <td>-47</td>\n",
              "      <td>8</td>\n",
              "      <td>0</td>\n",
              "      <td>8</td>\n",
              "      <td>0</td>\n",
              "      <td>0</td>\n",
              "      <td>0</td>\n",
              "      <td>0</td>\n",
              "      <td>0</td>\n",
              "      <td>0</td>\n",
              "      <td>0</td>\n",
              "      <td>281474976710655</td>\n",
              "      <td>normal</td>\n",
              "    </tr>\n",
              "    <tr>\n",
              "      <th>2</th>\n",
              "      <td>1.393661e+09</td>\n",
              "      <td>0.001631</td>\n",
              "      <td>0.001631</td>\n",
              "      <td>0.025902</td>\n",
              "      <td>185</td>\n",
              "      <td>185</td>\n",
              "      <td>2101624680</td>\n",
              "      <td>1.0</td>\n",
              "      <td>2437</td>\n",
              "      <td>1</td>\n",
              "      <td>0</td>\n",
              "      <td>-64</td>\n",
              "      <td>8</td>\n",
              "      <td>0</td>\n",
              "      <td>8</td>\n",
              "      <td>0</td>\n",
              "      <td>0</td>\n",
              "      <td>0</td>\n",
              "      <td>0</td>\n",
              "      <td>0</td>\n",
              "      <td>0</td>\n",
              "      <td>0</td>\n",
              "      <td>281474976710655</td>\n",
              "      <td>normal</td>\n",
              "    </tr>\n",
              "    <tr>\n",
              "      <th>3</th>\n",
              "      <td>1.393661e+09</td>\n",
              "      <td>0.055325</td>\n",
              "      <td>0.055325</td>\n",
              "      <td>0.081227</td>\n",
              "      <td>159</td>\n",
              "      <td>159</td>\n",
              "      <td>2101680214</td>\n",
              "      <td>1.0</td>\n",
              "      <td>2437</td>\n",
              "      <td>1</td>\n",
              "      <td>0</td>\n",
              "      <td>-32</td>\n",
              "      <td>8</td>\n",
              "      <td>0</td>\n",
              "      <td>8</td>\n",
              "      <td>0</td>\n",
              "      <td>0</td>\n",
              "      <td>0</td>\n",
              "      <td>0</td>\n",
              "      <td>0</td>\n",
              "      <td>0</td>\n",
              "      <td>0</td>\n",
              "      <td>281474976710655</td>\n",
              "      <td>normal</td>\n",
              "    </tr>\n",
              "    <tr>\n",
              "      <th>4</th>\n",
              "      <td>1.393661e+09</td>\n",
              "      <td>0.000415</td>\n",
              "      <td>0.000415</td>\n",
              "      <td>0.081642</td>\n",
              "      <td>54</td>\n",
              "      <td>54</td>\n",
              "      <td>2101681730</td>\n",
              "      <td>48.0</td>\n",
              "      <td>2437</td>\n",
              "      <td>0</td>\n",
              "      <td>1</td>\n",
              "      <td>-21</td>\n",
              "      <td>36</td>\n",
              "      <td>2</td>\n",
              "      <td>4</td>\n",
              "      <td>1</td>\n",
              "      <td>0</td>\n",
              "      <td>0</td>\n",
              "      <td>0</td>\n",
              "      <td>0</td>\n",
              "      <td>0</td>\n",
              "      <td>44</td>\n",
              "      <td>44833259836374</td>\n",
              "      <td>normal</td>\n",
              "    </tr>\n",
              "  </tbody>\n",
              "</table>\n",
              "</div>"
            ],
            "text/plain": [
              "              3         4         5         6  ...  72  74               75     154\n",
              "0  1.393661e+09  0.000000  0.000000  0.000000  ...   0   0  281474976710655  normal\n",
              "1  1.393661e+09  0.024271  0.024271  0.024271  ...   0   0  281474976710655  normal\n",
              "2  1.393661e+09  0.001631  0.001631  0.025902  ...   0   0  281474976710655  normal\n",
              "3  1.393661e+09  0.055325  0.055325  0.081227  ...   0   0  281474976710655  normal\n",
              "4  1.393661e+09  0.000415  0.000415  0.081642  ...   0  44   44833259836374  normal\n",
              "\n",
              "[5 rows x 24 columns]"
            ]
          },
          "metadata": {
            "tags": []
          },
          "execution_count": 5
        }
      ]
    },
    {
      "cell_type": "code",
      "metadata": {
        "id": "r1hQc4TcPPvs"
      },
      "source": [
        "data_normal = data[data[\"154\"]==\"normal\"]"
      ],
      "execution_count": null,
      "outputs": []
    },
    {
      "cell_type": "code",
      "metadata": {
        "id": "qW99vehOPXEM",
        "colab": {
          "base_uri": "https://localhost:8080/",
          "height": 102
        },
        "outputId": "df4c4d3b-4125-45a6-a3da-f9d6ab373ea1"
      },
      "source": [
        "data[\"154\"].value_counts()"
      ],
      "execution_count": null,
      "outputs": [
        {
          "output_type": "execute_result",
          "data": {
            "text/plain": [
              "normal           1631218\n",
              "injection          65379\n",
              "impersonation      48522\n",
              "flooding           48484\n",
              "Name: 154, dtype: int64"
            ]
          },
          "metadata": {
            "tags": []
          },
          "execution_count": 7
        }
      ]
    },
    {
      "cell_type": "code",
      "metadata": {
        "id": "_oSN0vkvPYpV"
      },
      "source": [
        "data_normal =data_normal.drop(columns=[\"3\", \"5\",\"7\",\"47\",\"50\",\"67\",\"70\",\"37\"])"
      ],
      "execution_count": null,
      "outputs": []
    },
    {
      "cell_type": "code",
      "metadata": {
        "id": "w6AYUmpoPftj",
        "colab": {
          "base_uri": "https://localhost:8080/",
          "height": 34
        },
        "outputId": "4caf3fba-8473-4f6d-a6dd-b980dc19038b"
      },
      "source": [
        "data_normal.shape"
      ],
      "execution_count": null,
      "outputs": [
        {
          "output_type": "execute_result",
          "data": {
            "text/plain": [
              "(1631218, 16)"
            ]
          },
          "metadata": {
            "tags": []
          },
          "execution_count": 9
        }
      ]
    },
    {
      "cell_type": "code",
      "metadata": {
        "id": "W1NGeRcyPhVA"
      },
      "source": [
        "X = data_normal.drop(columns=\"154\")"
      ],
      "execution_count": null,
      "outputs": []
    },
    {
      "cell_type": "code",
      "metadata": {
        "id": "-PXZRHuSPjhU"
      },
      "source": [
        "from sklearn.preprocessing import MinMaxScaler\n",
        "X_norm = MinMaxScaler().fit(X)\n",
        "X_train_norm = X_norm.transform(X)"
      ],
      "execution_count": null,
      "outputs": []
    },
    {
      "cell_type": "code",
      "metadata": {
        "id": "MDzDIB_bPm2U"
      },
      "source": [
        "norm_dataframe = pd.DataFrame(X_train_norm)"
      ],
      "execution_count": null,
      "outputs": []
    },
    {
      "cell_type": "code",
      "metadata": {
        "id": "ASVXp1ATPo8T"
      },
      "source": [
        "learning_rate = 0.0002\n",
        "batch_size = 1000\n",
        "epochs = 1000\n",
        "\n",
        "data_dim = 15\n",
        "gen_hidden_dim = 100\n",
        "gen_hidden1_dim = 100\n",
        "disc_hidden_dim = 100\n",
        "disc_hidden1_dim = 100\n",
        "z_noise_dim = 15"
      ],
      "execution_count": null,
      "outputs": []
    },
    {
      "cell_type": "code",
      "metadata": {
        "id": "ssZBUcNAPzrz"
      },
      "source": [
        "def xavier_init(shape):\n",
        "  return tf.random_normal(shape=shape, stddev=1./tf.sqrt(shape[0]/2.))"
      ],
      "execution_count": null,
      "outputs": []
    },
    {
      "cell_type": "code",
      "metadata": {
        "id": "g72cCO2NP46L"
      },
      "source": [
        "weights = {\"disc_H\":tf.Variable(xavier_init([data_dim, disc_hidden_dim])),\n",
        "           \"disc_H1\":tf.Variable(xavier_init([disc_hidden_dim, disc_hidden1_dim])),\n",
        "           \"disc_final\":tf.Variable(xavier_init([disc_hidden1_dim,1])),\n",
        "           \"gen_H\":tf.Variable(xavier_init([z_noise_dim, gen_hidden_dim])),\n",
        "           \"gen_H1\":tf.Variable(xavier_init([gen_hidden_dim, gen_hidden1_dim])),\n",
        "           \"gen_final\":tf.Variable(xavier_init([gen_hidden1_dim, data_dim]))\n",
        "          }\n",
        "\n",
        "bias = {\"disc_H\":tf.Variable(xavier_init([disc_hidden_dim])),\n",
        "        \"disc_H1\":tf.Variable(xavier_init([disc_hidden1_dim])),\n",
        "        \"disc_final\":tf.Variable(xavier_init([1])),\n",
        "        \"gen_H\":tf.Variable(xavier_init([gen_hidden_dim])),\n",
        "        \"gen_H1\":tf.Variable(xavier_init([gen_hidden1_dim])),\n",
        "        \"gen_final\":tf.Variable(xavier_init([data_dim]))}"
      ],
      "execution_count": null,
      "outputs": []
    },
    {
      "cell_type": "code",
      "metadata": {
        "id": "5y4My6NhP8_e"
      },
      "source": [
        "def Generator(x):\n",
        "    hidden_layer = tf.matmul(x, weights['gen_H'])\n",
        "    hidden_layer = tf.add(hidden_layer, bias['gen_H'])\n",
        "    hidden_layer = tf.nn.relu(hidden_layer)\n",
        "    hidden1_layer = tf.matmul(hidden_layer, weights['gen_H1'])\n",
        "    hidden1_layer = tf.add(hidden1_layer, bias['gen_H1'])\n",
        "    hidden1_layer = tf.nn.relu(hidden1_layer)\n",
        "    out_layer = tf.matmul(hidden1_layer, weights['gen_final'])\n",
        "    out_layer = tf.add(out_layer, bias['gen_final'])\n",
        "    out_layer = tf.nn.sigmoid(out_layer)\n",
        "    return out_layer\n",
        "\n",
        "\n",
        "# Discriminator\n",
        "def Discriminator(x):\n",
        "    hidden_layer = tf.matmul(x, weights['disc_H'])\n",
        "    hidden_layer = tf.add(hidden_layer, bias['disc_H'])\n",
        "    hidden_layer = tf.nn.relu(hidden_layer)\n",
        "    hidden1_layer = tf.matmul(hidden_layer, weights['disc_H1'])\n",
        "    hidden1_layer = tf.add(hidden1_layer, bias['disc_H1'])\n",
        "    hidden1_layer = tf.nn.relu(hidden1_layer)\n",
        "    out_layer = tf.matmul(hidden1_layer, weights['disc_final'])\n",
        "    out_layer1 = tf.add(out_layer, bias['disc_final'])\n",
        "    out_layer = tf.nn.sigmoid(out_layer1)\n",
        "    return out_layer1, out_layer"
      ],
      "execution_count": null,
      "outputs": []
    },
    {
      "cell_type": "code",
      "metadata": {
        "id": "w4_KC81kQBKT"
      },
      "source": [
        "z_input = tf.placeholder(tf.float32, shape =[None, z_noise_dim], name = \"input_noise\")\n",
        "x_input = tf.placeholder(tf.float32, shape =[None, data_dim], name = \"real_input\")"
      ],
      "execution_count": null,
      "outputs": []
    },
    {
      "cell_type": "code",
      "metadata": {
        "id": "EUFUioovQDer"
      },
      "source": [
        "with tf.name_scope(\"Generator\") as scope:\n",
        "  output_Gen = Generator(z_input) #g(x)\n",
        "\n",
        "with tf.name_scope(\"Descriminator\") as scope:\n",
        "  real_output1_Disc, real_output_Disc = Discriminator(x_input) #d(x)\n",
        "  fake_output1_Disc, fake_output_Disc = Discriminator(output_Gen) #d(g(x))"
      ],
      "execution_count": null,
      "outputs": []
    },
    {
      "cell_type": "code",
      "metadata": {
        "id": "ld7ZciGRQFoT"
      },
      "source": [
        "with tf.name_scope(\"Discriminator_Loss\") as scope:\n",
        "  Discriminator_Loss = -tf.reduce_mean(tf.log(real_output_Disc+0.0001) + tf.log(1.-fake_output_Disc+0.0001))\n",
        "\n",
        "with tf.name_scope(\"Generator_Loss\") as scope:\n",
        "  Generator_Loss = -tf.reduce_mean(tf.log(fake_output_Disc+0.0001))\n",
        "\n",
        "Disc_loss_total = tf.summary.scalar(\"Disc_Total_loss\", Discriminator_Loss)\n",
        "Gen_loss_total = tf.summary.scalar(\"Gen_Total_loss\", Generator_Loss)"
      ],
      "execution_count": null,
      "outputs": []
    },
    {
      "cell_type": "code",
      "metadata": {
        "id": "SCcUD4-IQH-8"
      },
      "source": [
        "Generator_var = [weights[\"gen_H\"], weights[\"gen_final\"], bias[\"gen_H\"], bias[\"gen_final\"]]\n",
        "Descriminator_var = [weights[\"disc_H\"], weights[\"disc_final\"], bias[\"disc_H\"], bias[\"disc_final\"]]"
      ],
      "execution_count": null,
      "outputs": []
    },
    {
      "cell_type": "code",
      "metadata": {
        "id": "mQ07QpGNQKVr"
      },
      "source": [
        "with tf.name_scope(\"Optimizer_Discriminator\") as scope:\n",
        "  Discriminator_optimize = tf.train.AdamOptimizer(learning_rate=learning_rate).minimize(Discriminator_Loss, var_list = Descriminator_var)\n",
        "\n",
        "with tf.name_scope(\"Optimizer_Generator\") as scope:\n",
        "  Generator_optimize = tf.train.AdamOptimizer(learning_rate=learning_rate).minimize(Generator_Loss, var_list = Generator_var)"
      ],
      "execution_count": null,
      "outputs": []
    },
    {
      "cell_type": "code",
      "metadata": {
        "id": "S_Ft3WX0QMdQ",
        "colab": {
          "base_uri": "https://localhost:8080/",
          "height": 187
        },
        "outputId": "5eaa96da-25f5-4d0b-c4a3-921627de04cf"
      },
      "source": [
        "init = tf.global_variables_initializer()\n",
        "\n",
        "sess = tf.Session()\n",
        "sess.run(init)\n",
        "writer = tf.summary.FileWriter(\"./logs\", sess.graph)\n",
        "\n",
        "for epoch in range(epochs):\n",
        "  for i in range(0, len(norm_dataframe), batch_size):\n",
        "    batch = norm_dataframe[i:i+batch_size]\n",
        "    X_batch = batch\n",
        "    z_noise = np.random.uniform(-1., 1., size = [len(batch), z_noise_dim])\n",
        "    _, Disc_loss_epoch = sess.run([Discriminator_optimize, Discriminator_Loss], feed_dict = {x_input:X_batch, z_input:z_noise})\n",
        "    _, Gen_loss_epoch = sess.run([Generator_optimize, Generator_Loss], feed_dict = {z_input:z_noise})\n",
        "\n",
        "    #summary_Disc_Loss = sess.run(Disc_loss_total, feed_dict = {x_input:X_batch, z_input:z_noise})\n",
        "    #writer.add_summary(summary_Disc_Loss, epoch)\n",
        "\n",
        "    #summary_Gen_Loss = sess.run(Gen_loss_total, feed_dict = {z_input:z_noise})\n",
        "    #writer.add_summary(summary_Gen_Loss, epoch)\n",
        "\n",
        "  if epoch % 100 ==0:\n",
        "    print(\"steps: {0} : Generator Loss: {1}, Descriminator Loss: {2}\".format(epoch, Gen_loss_epoch, Disc_loss_epoch))"
      ],
      "execution_count": null,
      "outputs": [
        {
          "output_type": "stream",
          "text": [
            "steps: 0 : Generator Loss: 0.7927548885345459, Descriminator Loss: 1.0789471864700317\n",
            "steps: 100 : Generator Loss: 1.076942801475525, Descriminator Loss: 1.2360808849334717\n",
            "steps: 200 : Generator Loss: 1.070707082748413, Descriminator Loss: 1.1237000226974487\n",
            "steps: 300 : Generator Loss: 1.3215184211730957, Descriminator Loss: 1.1224159002304077\n",
            "steps: 400 : Generator Loss: 1.2164217233657837, Descriminator Loss: 1.159535527229309\n",
            "steps: 500 : Generator Loss: 2.0023632049560547, Descriminator Loss: 0.9341744184494019\n",
            "steps: 600 : Generator Loss: 1.6159111261367798, Descriminator Loss: 1.1019465923309326\n",
            "steps: 700 : Generator Loss: 1.5397357940673828, Descriminator Loss: 1.0835018157958984\n",
            "steps: 800 : Generator Loss: 1.8236333131790161, Descriminator Loss: 0.8896986842155457\n",
            "steps: 900 : Generator Loss: 1.8597121238708496, Descriminator Loss: 0.9204854965209961\n"
          ],
          "name": "stdout"
        }
      ]
    },
    {
      "cell_type": "code",
      "metadata": {
        "id": "wzjsZXMOQlOL"
      },
      "source": [
        "Z_noise = np.random.uniform(-1., 1., size= [100000, z_noise_dim])\n",
        "g = sess.run(output_Gen, feed_dict={z_input:Z_noise})"
      ],
      "execution_count": null,
      "outputs": []
    },
    {
      "cell_type": "code",
      "metadata": {
        "id": "LSGI12epQvWM"
      },
      "source": [
        "data_gan = X_norm.inverse_transform(g)"
      ],
      "execution_count": null,
      "outputs": []
    },
    {
      "cell_type": "code",
      "metadata": {
        "id": "05FctO9vwXvV"
      },
      "source": [
        "pd.DataFrame(data_gan).to_csv(\"/content/drive/My Drive/awid/gan_data.csv\")"
      ],
      "execution_count": null,
      "outputs": []
    },
    {
      "cell_type": "code",
      "metadata": {
        "id": "LiHLSQveRLIK"
      },
      "source": [
        "X_ml = data.drop(columns =[\"3\", \"5\",\"7\",\"47\",\"50\",\"67\",\"70\",\"37\",\"154\"])\n",
        "y_ml = data[\"154\"]==\"normal\"\n",
        "y_ml = y_ml.astype(\"int\")"
      ],
      "execution_count": null,
      "outputs": []
    },
    {
      "cell_type": "code",
      "metadata": {
        "id": "7N16ZvOkcAeH",
        "colab": {
          "base_uri": "https://localhost:8080/",
          "height": 34
        },
        "outputId": "82b451d9-abc3-4bdb-bba7-0d910314f7d6"
      },
      "source": [
        "X_ml.shape"
      ],
      "execution_count": null,
      "outputs": [
        {
          "output_type": "execute_result",
          "data": {
            "text/plain": [
              "(1793603, 15)"
            ]
          },
          "metadata": {
            "tags": []
          },
          "execution_count": 27
        }
      ]
    },
    {
      "cell_type": "code",
      "metadata": {
        "id": "vijeIW5sRX8N"
      },
      "source": [
        "from sklearn.preprocessing import RobustScaler\n",
        "X_ml_norm = RobustScaler().fit(X_ml)\n",
        "X_ml_train_norm = X_norm.transform(X_ml)"
      ],
      "execution_count": null,
      "outputs": []
    },
    {
      "cell_type": "code",
      "metadata": {
        "id": "l6_6AeT4Sln3"
      },
      "source": [
        "from imblearn.under_sampling import RandomUnderSampler\n",
        "sm = RandomUnderSampler(random_state=10)\n",
        "X_train_res, y_train_res = sm.fit_resample(X_ml_train_norm, y_ml)"
      ],
      "execution_count": null,
      "outputs": []
    },
    {
      "cell_type": "code",
      "metadata": {
        "id": "ifc9dzh8R1Xf"
      },
      "source": [
        "#from sklearn.ensemble import RandomForestClassifier\n",
        "from sklearn.ensemble import ExtraTreesClassifier\n",
        "#clf_random_forest = RandomForestClassifier(n_estimators=10, max_depth=50, random_state=0)\n",
        "clf_extra_tree = ExtraTreesClassifier(n_estimators=10, max_depth=25, random_state=0)"
      ],
      "execution_count": null,
      "outputs": []
    },
    {
      "cell_type": "code",
      "metadata": {
        "id": "7xrmZf0MSANG",
        "colab": {
          "base_uri": "https://localhost:8080/",
          "height": 153
        },
        "outputId": "2d2866dd-eed6-43a5-9254-83291541d534"
      },
      "source": [
        "clf_extra_tree.fit(X_train_res, y_train_res)"
      ],
      "execution_count": null,
      "outputs": [
        {
          "output_type": "execute_result",
          "data": {
            "text/plain": [
              "ExtraTreesClassifier(bootstrap=False, ccp_alpha=0.0, class_weight=None,\n",
              "                     criterion='gini', max_depth=25, max_features='auto',\n",
              "                     max_leaf_nodes=None, max_samples=None,\n",
              "                     min_impurity_decrease=0.0, min_impurity_split=None,\n",
              "                     min_samples_leaf=1, min_samples_split=2,\n",
              "                     min_weight_fraction_leaf=0.0, n_estimators=10, n_jobs=None,\n",
              "                     oob_score=False, random_state=0, verbose=0,\n",
              "                     warm_start=False)"
            ]
          },
          "metadata": {
            "tags": []
          },
          "execution_count": 31
        }
      ]
    },
    {
      "cell_type": "code",
      "metadata": {
        "id": "wHPuttxfS1sY"
      },
      "source": [
        "data_gan_datafram = pd.DataFrame(data_gan)"
      ],
      "execution_count": null,
      "outputs": []
    },
    {
      "cell_type": "code",
      "metadata": {
        "id": "MYvGkHGK4vyn"
      },
      "source": [
        "data_gan_trans = X_ml_norm.transform(data_gan)"
      ],
      "execution_count": null,
      "outputs": []
    },
    {
      "cell_type": "code",
      "metadata": {
        "id": "0_8Cg9ze48Xv"
      },
      "source": [
        "prediction_norm = clf_extra_tree.predict(data_gan_trans)"
      ],
      "execution_count": null,
      "outputs": []
    },
    {
      "cell_type": "code",
      "metadata": {
        "id": "oupyiLMD5F75"
      },
      "source": [
        "pred_dataframe = pd.DataFrame(prediction_norm)"
      ],
      "execution_count": null,
      "outputs": []
    },
    {
      "cell_type": "code",
      "metadata": {
        "id": "dAXaEII7dH4A",
        "colab": {
          "base_uri": "https://localhost:8080/",
          "height": 68
        },
        "outputId": "431b2595-0700-4145-dec4-a6ec8cbbaeed"
      },
      "source": [
        " pred_dataframe[0].value_counts()"
      ],
      "execution_count": null,
      "outputs": [
        {
          "output_type": "execute_result",
          "data": {
            "text/plain": [
              "1    88597\n",
              "0    11403\n",
              "Name: 0, dtype: int64"
            ]
          },
          "metadata": {
            "tags": []
          },
          "execution_count": 37
        }
      ]
    },
    {
      "cell_type": "code",
      "metadata": {
        "id": "xz20mKFYdN0-"
      },
      "source": [
        ""
      ],
      "execution_count": null,
      "outputs": []
    }
  ]
}